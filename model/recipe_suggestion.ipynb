{
 "cells": [
  {
   "cell_type": "code",
   "execution_count": 3,
   "id": "56d30c5d-7337-4707-8a2d-cd4113917a12",
   "metadata": {},
   "outputs": [
    {
     "name": "stdout",
     "output_type": "stream",
     "text": [
      "Pancakes\n"
     ]
    }
   ],
   "source": [
    "\n",
    "import sys\n",
    "import joblib\n",
    "\n",
    "# Load the trained model and vectorizer\n",
    "model = joblib.load('recipe_model.pkl')\n",
    "vectorizer = joblib.load('vectorizer.pkl')\n",
    "\n",
    "# Get the ingredients from the command line argument (for now)\n",
    "ingredients = sys.argv[1]\n",
    "\n",
    "# Vectorize the input ingredients\n",
    "ingredients_tfidf = vectorizer.transform([ingredients])\n",
    "\n",
    "# Predict the recipe\n",
    "predicted_recipe = model.predict(ingredients_tfidf)\n",
    "\n",
    "# Print the result (this should be captured by Node.js)\n",
    "print(predicted_recipe[0])\n"
   ]
  }
 ],
 "metadata": {
  "kernelspec": {
   "display_name": "Python 3 (ipykernel)",
   "language": "python",
   "name": "python3"
  },
  "language_info": {
   "codemirror_mode": {
    "name": "ipython",
    "version": 3
   },
   "file_extension": ".py",
   "mimetype": "text/x-python",
   "name": "python",
   "nbconvert_exporter": "python",
   "pygments_lexer": "ipython3",
   "version": "3.12.7"
  }
 },
 "nbformat": 4,
 "nbformat_minor": 5
}
