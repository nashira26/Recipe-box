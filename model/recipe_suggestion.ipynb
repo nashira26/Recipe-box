{
 "cells": [
  {
   "cell_type": "code",
   "execution_count": 3,
   "id": "56d30c5d-7337-4707-8a2d-cd4113917a12",
   "metadata": {},
   "outputs": [
    {
     "name": "stdout",
     "output_type": "stream",
     "text": [
      "Pancakes\n"
     ]
    }
   ],
   "source": [
    "# recipe_suggestion.py\n",
    "\n",
    "import sys\n",
    "import joblib\n",
    "\n",
    "# Load the trained model and vectorizer\n",
    "model = joblib.load('recipe_model.pkl')\n",
    "vectorizer = joblib.load('vectorizer.pkl')\n",
    "\n",
    "# Get the ingredients from the command line argument\n",
    "ingredients = sys.argv[1]\n",
    "\n",
    "# Vectorize the input ingredients\n",
    "ingredients_tfidf = vectorizer.transform([ingredients])\n",
    "\n",
    "# Predict the recipe\n",
    "predicted_recipe = model.predict(ingredients_tfidf)\n",
    "\n",
    "# Print the result (this will be captured by Node.js)\n",
    "print(predicted_recipe[0])\n"
   ]
  },
  {
   "cell_type": "code",
   "execution_count": 4,
   "id": "36c95737-b975-44bd-9c9f-299492a40829",
   "metadata": {},
   "outputs": [
    {
     "ename": "SyntaxError",
     "evalue": "invalid syntax (3609194398.py, line 1)",
     "output_type": "error",
     "traceback": [
      "\u001b[1;36m  Cell \u001b[1;32mIn[4], line 1\u001b[1;36m\u001b[0m\n\u001b[1;33m    jupyter nbconvert --to script recipe_suggestion.ipynb\u001b[0m\n\u001b[1;37m            ^\u001b[0m\n\u001b[1;31mSyntaxError\u001b[0m\u001b[1;31m:\u001b[0m invalid syntax\n"
     ]
    }
   ],
   "source": [
    "jupyter nbconvert --to script recipe_suggestion.ipynb\n"
   ]
  },
  {
   "cell_type": "code",
   "execution_count": null,
   "id": "1ccb3435-44c4-4690-bc42-3733da5e67a1",
   "metadata": {},
   "outputs": [],
   "source": []
  }
 ],
 "metadata": {
  "kernelspec": {
   "display_name": "Python 3 (ipykernel)",
   "language": "python",
   "name": "python3"
  },
  "language_info": {
   "codemirror_mode": {
    "name": "ipython",
    "version": 3
   },
   "file_extension": ".py",
   "mimetype": "text/x-python",
   "name": "python",
   "nbconvert_exporter": "python",
   "pygments_lexer": "ipython3",
   "version": "3.12.7"
  }
 },
 "nbformat": 4,
 "nbformat_minor": 5
}
